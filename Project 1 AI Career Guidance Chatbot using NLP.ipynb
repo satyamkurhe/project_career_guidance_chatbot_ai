{
 "cells": [
  {
   "cell_type": "markdown",
   "id": "47393069-f4d3-4744-82f1-f213fa1c3009",
   "metadata": {},
   "source": [
    "# Project 1: Career Guidance Chatbot using NLP (AI)\n",
    "Welcome to the AI Project Series!  \n",
    "In this project, we will build a simple NLP-based chatbot using Python.\n",
    "\n",
    "\n",
    "## 🎯 Objective:\n",
    "To build a chatbot that gives answers to career-related questions using simple NLP and keyword matching.\n",
    "\n",
    "\n",
    "## 📦 Step 1: Install Required Libraries\n"
   ]
  },
  {
   "cell_type": "code",
   "execution_count": 1,
   "id": "0beeaa02-96e2-47a7-b130-49872f310de3",
   "metadata": {},
   "outputs": [
    {
     "name": "stdout",
     "output_type": "stream",
     "text": [
      "Defaulting to user installation because normal site-packages is not writeable\n",
      "Requirement already satisfied: nltk in c:\\programdata\\anaconda3\\lib\\site-packages (3.9.1)\n",
      "Requirement already satisfied: click in c:\\programdata\\anaconda3\\lib\\site-packages (from nltk) (8.1.7)\n",
      "Requirement already satisfied: joblib in c:\\programdata\\anaconda3\\lib\\site-packages (from nltk) (1.4.2)\n",
      "Requirement already satisfied: regex>=2021.8.3 in c:\\programdata\\anaconda3\\lib\\site-packages (from nltk) (2024.9.11)\n",
      "Requirement already satisfied: tqdm in c:\\programdata\\anaconda3\\lib\\site-packages (from nltk) (4.66.5)\n",
      "Requirement already satisfied: colorama in c:\\programdata\\anaconda3\\lib\\site-packages (from click->nltk) (0.4.6)\n",
      "Defaulting to user installation because normal site-packages is not writeable\n",
      "Requirement already satisfied: Flask in c:\\programdata\\anaconda3\\lib\\site-packages (3.0.3)\n",
      "Requirement already satisfied: Werkzeug>=3.0.0 in c:\\programdata\\anaconda3\\lib\\site-packages (from Flask) (3.0.3)\n",
      "Requirement already satisfied: Jinja2>=3.1.2 in c:\\programdata\\anaconda3\\lib\\site-packages (from Flask) (3.1.4)\n",
      "Requirement already satisfied: itsdangerous>=2.1.2 in c:\\programdata\\anaconda3\\lib\\site-packages (from Flask) (2.2.0)\n",
      "Requirement already satisfied: click>=8.1.3 in c:\\programdata\\anaconda3\\lib\\site-packages (from Flask) (8.1.7)\n",
      "Requirement already satisfied: blinker>=1.6.2 in c:\\programdata\\anaconda3\\lib\\site-packages (from Flask) (1.6.2)\n",
      "Requirement already satisfied: colorama in c:\\programdata\\anaconda3\\lib\\site-packages (from click>=8.1.3->Flask) (0.4.6)\n",
      "Requirement already satisfied: MarkupSafe>=2.0 in c:\\programdata\\anaconda3\\lib\\site-packages (from Jinja2>=3.1.2->Flask) (2.1.3)\n"
     ]
    }
   ],
   "source": [
    "!pip install nltk\n",
    "!pip install Flask"
   ]
  },
  {
   "cell_type": "markdown",
   "id": "987113b1-cf77-4226-845f-27d226591f46",
   "metadata": {},
   "source": [
    "\n",
    "## 🧠 Step 2: Prepare the Dataset (Q&A Pairs)\n"
   ]
  },
  {
   "cell_type": "code",
   "execution_count": 2,
   "id": "fdbc29c1-ecd0-4aa4-898e-2bb83ab80b37",
   "metadata": {},
   "outputs": [],
   "source": [
    "faq_data = {\n",
    "    \"What is Data Science?\": \"Data Science is a field that uses statistics and algorithms to extract insights from data.\",\n",
    "    \"Career after BCA?\": \"You can pursue MCA, Data Science, Full Stack Development, or start preparing for competitive exams.\",\n",
    "    \"What is Machine Learning?\": \"Machine Learning allows systems to learn from data and make predictions or decisions.\",\n",
    "    \"Tell me about AI?\": \"AI stands for Artificial Intelligence. It refers to machines that can mimic human intelligence.\"\n",
    "}\n"
   ]
  },
  {
   "cell_type": "markdown",
   "id": "279588aa-493d-441c-af5a-04339e145719",
   "metadata": {},
   "source": [
    "---\n",
    "\n",
    "## 🧹 Step 3: Basic NLP Preprocessing\n"
   ]
  },
  {
   "cell_type": "code",
   "execution_count": 10,
   "id": "3f752f96-0cc8-48a9-9c11-7b05062679e3",
   "metadata": {},
   "outputs": [
    {
     "name": "stderr",
     "output_type": "stream",
     "text": [
      "[nltk_data] Downloading package punkt to\n",
      "[nltk_data]     C:\\Users\\satya\\AppData\\Roaming\\nltk_data...\n",
      "[nltk_data]   Package punkt is already up-to-date!\n"
     ]
    }
   ],
   "source": [
    "import nltk\n",
    "\n",
    "from nltk.tokenize import word_tokenize\n",
    "\n",
    "nltk.download('punkt')\n",
    "\n",
    "def preprocess(text):\n",
    "    return word_tokenize(text.lower())\n"
   ]
  },
  {
   "cell_type": "markdown",
   "id": "370db01b-eef5-43b6-b5df-a246575c8f6d",
   "metadata": {},
   "source": [
    "---\n",
    "\n",
    "## 💬 Step 4: Match User Input with Predefined Questions\n"
   ]
  },
  {
   "cell_type": "code",
   "execution_count": 5,
   "id": "ceaca9be-2f84-4f34-9f8f-cb5b455f088c",
   "metadata": {},
   "outputs": [],
   "source": [
    "def get_response(user_input):\n",
    "    tokens = preprocess(user_input)\n",
    "    for question in faq_data:\n",
    "        if any(word in preprocess(question) for word in tokens):\n",
    "            return faq_data[question]\n",
    "    return \"Sorry, I didn't understand that. Can you ask something else?\"\n"
   ]
  },
  {
   "cell_type": "markdown",
   "id": "1f74b23c-5b0a-4196-8e18-07cb49ba7ab1",
   "metadata": {},
   "source": [
    "---\n",
    "\n",
    "## 🖥️ Step 5: Simple Console-Based Chatbot (Run this)\n"
   ]
  },
  {
   "cell_type": "code",
   "execution_count": 8,
   "id": "37882d9c-ffed-4fc2-8f43-445f9f57ef23",
   "metadata": {},
   "outputs": [
    {
     "name": "stdout",
     "output_type": "stream",
     "text": [
      "Welcome to Career Chatbot. Ask your career questions (type 'bye' to exit)\n"
     ]
    },
    {
     "name": "stdin",
     "output_type": "stream",
     "text": [
      "You:  bye\n"
     ]
    },
    {
     "name": "stdout",
     "output_type": "stream",
     "text": [
      "Chatbot: Goodbye! Best of luck for your career.\n"
     ]
    }
   ],
   "source": [
    "print(\"Welcome to Career Chatbot. Ask your career questions (type 'bye' to exit)\")\n",
    "while True:\n",
    "    user = input(\"You: \")\n",
    "    if user.lower() == \"bye\":\n",
    "        print(\"Chatbot: Goodbye! Best of luck for your career.\")\n",
    "        break\n",
    "    print(\"Chatbot:\", get_response(user))\n"
   ]
  },
  {
   "cell_type": "code",
   "execution_count": null,
   "id": "415fef84-eb49-4a56-928e-96a869cdbea4",
   "metadata": {},
   "outputs": [],
   "source": []
  }
 ],
 "metadata": {
  "kernelspec": {
   "display_name": "Python 3 (ipykernel)",
   "language": "python",
   "name": "python3"
  },
  "language_info": {
   "codemirror_mode": {
    "name": "ipython",
    "version": 3
   },
   "file_extension": ".py",
   "mimetype": "text/x-python",
   "name": "python",
   "nbconvert_exporter": "python",
   "pygments_lexer": "ipython3",
   "version": "3.12.7"
  }
 },
 "nbformat": 4,
 "nbformat_minor": 5
}
